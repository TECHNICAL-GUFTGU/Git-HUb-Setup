{
 "cells": [
  {
   "cell_type": "markdown",
   "id": "7195e6d6-6947-4902-9b83-21e0020d1032",
   "metadata": {},
   "source": [
    "DEBIKA WEDS RABI"
   ]
  },
  {
   "cell_type": "code",
   "execution_count": null,
   "id": "62e25d75-e1c3-4883-a0a2-db2043816133",
   "metadata": {},
   "outputs": [],
   "source": []
  }
 ],
 "metadata": {
  "kernelspec": {
   "display_name": "Python 3 (ipykernel)",
   "language": "python",
   "name": "python3"
  },
  "language_info": {
   "codemirror_mode": {
    "name": "ipython",
    "version": 3
   },
   "file_extension": ".py",
   "mimetype": "text/x-python",
   "name": "python",
   "nbconvert_exporter": "python",
   "pygments_lexer": "ipython3",
   "version": "3.9.7"
  }
 },
 "nbformat": 4,
 "nbformat_minor": 5
}
